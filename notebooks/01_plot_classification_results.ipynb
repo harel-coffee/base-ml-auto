{
 "cells": [
  {
   "cell_type": "code",
   "execution_count": null,
   "metadata": {},
   "outputs": [],
   "source": [
    "import os\n",
    "from glob import glob\n",
    "import pickle\n",
    "import numpy as np\n",
    "import pandas as pd\n",
    "import matplotlib.pyplot as plt\n",
    "import seaborn as sns\n",
    "\n",
    "import sys\n",
    "sys.path.append('../../')\n",
    "from base_ml.utils import MLOutputHandler, ClassifierOutputHandler\n",
    "from base_ml import utils\n",
    "\n",
    "%load_ext autoreload\n",
    "%autoreload 2"
   ]
  },
  {
   "cell_type": "code",
   "execution_count": null,
   "metadata": {},
   "outputs": [],
   "source": [
    "# Helper function\n",
    "def get_model_names(path_list):\n",
    "    res_list = []\n",
    "    for i in path_list:\n",
    "        cur_name = i.split('/')[-1]\n",
    "        cur_name = cur_name.replace('output_pred_', '').replace('_.pkl', '')\n",
    "        res_list.append(cur_name)\n",
    "    return res_list"
   ]
  },
  {
   "cell_type": "markdown",
   "metadata": {},
   "source": [
    "### 1. Plot classification output"
   ]
  },
  {
   "cell_type": "code",
   "execution_count": null,
   "metadata": {
    "scrolled": true
   },
   "outputs": [],
   "source": [
    "# Specify path of output pickle files from\n",
    "pkl_list = [\n",
    "    '/workspace/base-ml/examples/outputs/dizzyreg1/exp_008/output_pred_LinearDiscriminantAnalysis_.pkl',\n",
    "    '/workspace/base-ml/examples/outputs/dizzyreg1/exp_008/output_pred_LogisticRegression_.pkl',\n",
    "    '/workspace/base-ml/examples/outputs/dizzyreg1/exp_008/output_pred_SVC_.pkl',\n",
    "    '/workspace/base-ml/examples/outputs/dizzyreg1/exp_008/output_pred_GaussianNB_.pkl',\n",
    "    '/workspace/base-ml/examples/outputs/dizzyreg1/exp_008/output_pred_GaussianProcessClassifier_.pkl',\n",
    "    '/workspace/base-ml/examples/outputs/dizzyreg1/exp_008/output_pred_KNeighborsClassifier_.pkl',\n",
    "    '/workspace/base-ml/examples/outputs/dizzyreg1/exp_008/output_pred_DecisionTreeClassifier_.pkl',\n",
    "    '/workspace/base-ml/examples/outputs/dizzyreg1/exp_008/output_pred_RandomForestClassifier_.pkl',\n",
    "    '/workspace/base-ml/examples/outputs/dizzyreg1/exp_008/output_pred_AdaBoostClassifier_.pkl',\n",
    "    '/workspace/base-ml/examples/outputs/dizzyreg1/exp_008/output_pred_MLPClassifier_.pkl',\n",
    "    '/workspace/base-ml/examples/outputs/dizzyreg1/exp_008/output_pred_MGMCCheby_100.0remain.pkl',\n",
    "]\n",
    "\n",
    "all_df = []\n",
    "cm_fig_list1 = []\n",
    "# model_name = ['LR', 'RF', 'MLP', 'MaskedMLP', 'GCN', 'MaskedGCN', 'InceptionGCN', 'MaskedInceptionGCN', 'MGMC (ChebConv)']\n",
    "# pkl_list = glob('/workspace/base-ml/examples/outputs/dizzyreg1/exp_008/output_pred_*.pkl')\n",
    "model_name = get_model_names(pkl_list)\n",
    "model_name = [x.replace(\"Cheby_100.0remain.pkl\", \"\") if \"Cheby_100.0remain\" in x else x for x in model_name]\n",
    "\n",
    "for k,v in enumerate(pkl_list):\n",
    "    print(model_name[k], v)\n",
    "    with open(v, 'rb') as fpath:\n",
    "        y_list = pickle.load(fpath)\n",
    "        cur_df = ClassifierOutputHandler.to_dataframe(y_list, model_name[k], average='macro')\n",
    "        all_df.append(cur_df)\n",
    "        cur_fig = ClassifierOutputHandler.to_confusion_matrix(y_list, col_name=model_name[k], \n",
    "                                                    class_names=['NC', 'MCI', 'AD'])\n",
    "        cm_fig_list1.append(cur_fig)\n",
    "res_df = pd.concat(all_df, ignore_index=True)\n",
    "\n",
    "# Plot boxplots\n",
    "out_fig = ClassifierOutputHandler.pretty_df_to_boxplots(res_df, y_limit=(0.0, 1.05))\n"
   ]
  },
  {
   "cell_type": "markdown",
   "metadata": {},
   "source": [
    "### 2. Save outputs"
   ]
  },
  {
   "cell_type": "code",
   "execution_count": null,
   "metadata": {
    "scrolled": true
   },
   "outputs": [],
   "source": [
    "# Summary of classification output in dataframe format\n",
    "save_table_t1 = res_df[['value', 'estimator', 'variable']].groupby(['estimator', 'variable']).describe().round(3)\n",
    "save_table_t1\n",
    "\n",
    "# Uncomment command below to save dataframe to specified location\n",
    "# save_table_t1.to_excel('/workspace/base-ml/examples/outputs/dizzyreg1/exp_008/dz_clf_metrics_df_describe.xlsx')"
   ]
  },
  {
   "cell_type": "code",
   "execution_count": null,
   "metadata": {
    "scrolled": true
   },
   "outputs": [],
   "source": [
    "# Save confusion matrices\n",
    "output_dir = \"/workspace/base-ml/examples/outputs/dizzyreg1/exp_008/\"\n",
    "utils.save_fig_list(output_dir, cm_fig_list1)"
   ]
  }
 ],
 "metadata": {
  "kernelspec": {
   "display_name": "Python 3",
   "language": "python",
   "name": "python3"
  },
  "language_info": {
   "codemirror_mode": {
    "name": "ipython",
    "version": 3
   },
   "file_extension": ".py",
   "mimetype": "text/x-python",
   "name": "python",
   "nbconvert_exporter": "python",
   "pygments_lexer": "ipython3",
   "version": "3.8.2"
  }
 },
 "nbformat": 4,
 "nbformat_minor": 4
}
