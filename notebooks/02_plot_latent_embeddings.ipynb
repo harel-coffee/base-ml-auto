{
 "cells": [
  {
   "cell_type": "code",
   "execution_count": null,
   "metadata": {},
   "outputs": [],
   "source": [
    "import os\n",
    "import pickle\n",
    "from omegaconf import OmegaConf\n",
    "import umap\n",
    "import matplotlib.pyplot as plt\n",
    "import numpy as np\n",
    "import pandas as pd\n",
    "import sys\n",
    "\n",
    "sys.path.append('../../')\n",
    "from base_ml import data_provider as dp\n",
    "import base_ml as qml\n",
    "from base_ml import trainer_provider as tp\n",
    "\n",
    "%load_ext autoreload\n",
    "%autoreload 2"
   ]
  },
  {
   "cell_type": "markdown",
   "metadata": {},
   "source": [
    "### 1. Plot UMAP embedding of input features"
   ]
  },
  {
   "cell_type": "code",
   "execution_count": null,
   "metadata": {},
   "outputs": [],
   "source": [
    "# Get input features\n",
    "args = OmegaConf.create()\n",
    "args.graph_type = 1\n",
    "args.remainder = \"passthrough\"\n",
    "args.exp_num = 9\n",
    "dataset = 'dizzyreg1'\n",
    "args.output_path = os.path.join(f'/workspace/base-ml/examples/outputs/{dataset}', 'exp_%03d' % args.exp_num)\n",
    "\n",
    "dataset = dp.DizzyregDataset(args, task_num=1)\n",
    "data_y = dataset.data_y.argmax(1)\n",
    "\n",
    "trainer = tp.MLTrainer(dataset, model_list=[], args=args)\n",
    "preprocessor = trainer.preprocessor(dataset.numerical_idx, dataset.non_num_idx, dataset.binary_idx_list)\n",
    "input_feat = preprocessor.fit_transform(dataset.data_x)\n",
    "\n",
    "# UMAP input features\n",
    "class_list = ['0', '1']\n",
    "input_embedding = umap.UMAP().fit_transform(input_feat)\n",
    "qml.utils.umap2D_and_plot(input_embedding, data_y, 'UMAP embedding of input features', class_list)"
   ]
  },
  {
   "cell_type": "code",
   "execution_count": null,
   "metadata": {},
   "outputs": [],
   "source": []
  }
 ],
 "metadata": {
  "kernelspec": {
   "display_name": "Python 3",
   "language": "python",
   "name": "python3"
  },
  "language_info": {
   "codemirror_mode": {
    "name": "ipython",
    "version": 3
   },
   "file_extension": ".py",
   "mimetype": "text/x-python",
   "name": "python",
   "nbconvert_exporter": "python",
   "pygments_lexer": "ipython3",
   "version": "3.8.2"
  }
 },
 "nbformat": 4,
 "nbformat_minor": 4
}
